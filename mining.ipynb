{
 "cells": [
  {
   "cell_type": "code",
   "execution_count": 49,
   "id": "32f1583c",
   "metadata": {},
   "outputs": [],
   "source": [
    "#To avoid warnings\n",
    "import warnings\n",
    "warnings.filterwarnings(\"ignore\")"
   ]
  },
  {
   "cell_type": "markdown",
   "id": "ebda23a3",
   "metadata": {},
   "source": [
    "## Loading the dataset"
   ]
  },
  {
   "cell_type": "code",
   "execution_count": 50,
   "id": "a6c3918d",
   "metadata": {},
   "outputs": [
    {
     "name": "stdout",
     "output_type": "stream",
     "text": [
      "['Cobra Kai', 'Lupin', '12 Monkeys', 'Sherlock']\n",
      "['Lost', 'Jack Ryan', 'The Flash', 'Game of thrones', 'House of Cards', '12 Monkeys', 'Vikings', 'Fringe', 'The Mentalist', 'The Alienist', 'Big Little Lies', 'Chernobyl']\n",
      "['Sex Education', 'Dr. House', 'Kingdom', 'The Walking Dead']\n",
      "['Ozark', 'Sex Education', 'Constantine', 'Preacher', 'Vikings', 'The Tick']\n",
      "['Naruto']\n",
      "['Sex Education']\n",
      "['Locke & Key']\n",
      "['Lupin']\n",
      "['Fringe', 'Shooter', 'How to get away with murder']\n",
      "['Queen of the South', 'Better Call Saul', 'Peaky Blinders']\n"
     ]
    }
   ],
   "source": [
    "transactions = []\n",
    "with open('TV Shows - Association Rule Learning.csv', 'r', encoding='utf-8') as file:\n",
    "    for i, line in enumerate(file):\n",
    "        # Split by ',' and remove empty/space-only entries\n",
    "        items = [show.strip() for show in line.strip().split(',') if show.strip()]\n",
    "        transactions.append(items)\n",
    "        if i < 10:\n",
    "            print(transactions[i])\n"
   ]
  },
  {
   "cell_type": "markdown",
   "id": "b95ed651",
   "metadata": {},
   "source": [
    "## Convert the transactions to One-Hot Encoded DataFrame\n",
    "### This step prepares the data in a format required by the Apriori algorithm in mlxtend—all TV shows become columns (True/False for each transaction)."
   ]
  },
  {
   "cell_type": "code",
   "execution_count": 58,
   "id": "8fb893c4",
   "metadata": {},
   "outputs": [
    {
     "name": "stdout",
     "output_type": "stream",
     "text": [
      "   Altered Carbon  The Innocent    You  House of Cards  Succession  Riverdale  \\\n",
      "0           False         False  False           False       False      False   \n",
      "1           False         False  False            True       False      False   \n",
      "2           False         False  False           False       False      False   \n",
      "3           False         False  False           False       False      False   \n",
      "4           False         False  False           False       False      False   \n",
      "\n",
      "   Game of thrones  Elementary  Family Guy  Designated Survivor  ...  \\\n",
      "0            False       False       False                False  ...   \n",
      "1             True       False       False                False  ...   \n",
      "2            False       False       False                False  ...   \n",
      "3            False       False       False                False  ...   \n",
      "4            False       False       False                False  ...   \n",
      "\n",
      "   The Originals   Loki  Atypical  Mirzapur  Supernatural  Heros  Travellers  \\\n",
      "0          False  False     False     False         False  False       False   \n",
      "1          False  False     False     False         False  False       False   \n",
      "2          False  False     False     False         False  False       False   \n",
      "3          False  False     False     False         False  False       False   \n",
      "4          False  False     False     False         False  False       False   \n",
      "\n",
      "   The Alienist  The Office  Berlin Station  \n",
      "0         False       False           False  \n",
      "1          True       False           False  \n",
      "2         False       False           False  \n",
      "3         False       False           False  \n",
      "4         False       False           False  \n",
      "\n",
      "[5 rows x 156 columns]\n",
      "(9690, 156)\n"
     ]
    }
   ],
   "source": [
    "import pandas as pd\n",
    "\n",
    "# All unique shows\n",
    "all_items = set(item for t in transactions for item in t)\n",
    "\n",
    "# Transaction to one-hot DataFrame\n",
    "df = pd.DataFrame([{item: (item in t) for item in all_items} for t in transactions])\n",
    "\n",
    "print(df.head())\n",
    "print(df.shape)\n"
   ]
  },
  {
   "cell_type": "markdown",
   "id": "3ce38e29",
   "metadata": {},
   "source": [
    "## Find frequent itemsets with apriori algorithm"
   ]
  },
  {
   "cell_type": "code",
   "execution_count": 59,
   "id": "8ab8ad2f",
   "metadata": {},
   "outputs": [
    {
     "name": "stdout",
     "output_type": "stream",
     "text": [
      "   Altered Carbon  The Innocent    You  House of Cards  Succession  Riverdale  \\\n",
      "0           False         False  False           False       False      False   \n",
      "1           False         False  False            True       False      False   \n",
      "2           False         False  False           False       False      False   \n",
      "3           False         False  False           False       False      False   \n",
      "4           False         False  False           False       False      False   \n",
      "\n",
      "   Game of thrones  Elementary  Family Guy  Designated Survivor  ...  \\\n",
      "0            False       False       False                False  ...   \n",
      "1             True       False       False                False  ...   \n",
      "2            False       False       False                False  ...   \n",
      "3            False       False       False                False  ...   \n",
      "4            False       False       False                False  ...   \n",
      "\n",
      "   The Originals   Loki  Atypical  Mirzapur  Supernatural  Heros  Travellers  \\\n",
      "0          False  False     False     False         False  False       False   \n",
      "1          False  False     False     False         False  False       False   \n",
      "2          False  False     False     False         False  False       False   \n",
      "3          False  False     False     False         False  False       False   \n",
      "4          False  False     False     False         False  False       False   \n",
      "\n",
      "   The Alienist  The Office  Berlin Station  \n",
      "0         False       False           False  \n",
      "1          True       False           False  \n",
      "2         False       False           False  \n",
      "3         False       False           False  \n",
      "4         False       False           False  \n",
      "\n",
      "[5 rows x 156 columns]\n",
      "(9690, 156)\n"
     ]
    }
   ],
   "source": [
    "import pandas as pd\n",
    "\n",
    "# All unique shows\n",
    "all_items = set(item for t in transactions for item in t)\n",
    "\n",
    "# Transaction to one-hot DataFrame\n",
    "df = pd.DataFrame([{item: (item in t) for item in all_items} for t in transactions])\n",
    "\n",
    "print(df.head())\n",
    "print(df.shape)\n"
   ]
  },
  {
   "cell_type": "markdown",
   "id": "38a18700",
   "metadata": {},
   "source": [
    "## Mine Association Rules from Frequent Itemsets\n",
    "### This will give the insights into which combinations of shows reliably predict the presence of other shows—useful for recommendations and understanding show clusters"
   ]
  },
  {
   "cell_type": "code",
   "execution_count": 60,
   "id": "6c69d21d",
   "metadata": {},
   "outputs": [
    {
     "name": "stdout",
     "output_type": "stream",
     "text": [
      "            antecedents           consequents   support  confidence\n",
      "5            (Atypical)       (Sex Education)  0.056140    0.401180\n",
      "3               (Ozark)       (Sex Education)  0.075129    0.387853\n",
      "1  (Two and a half men)       (Sex Education)  0.056553    0.308038\n",
      "2       (Sex Education)               (Ozark)  0.075129    0.293904\n",
      "0       (Sex Education)  (Two and a half men)  0.056553    0.221235\n",
      "4       (Sex Education)            (Atypical)  0.056140    0.219621\n"
     ]
    }
   ],
   "source": [
    "from mlxtend.frequent_patterns import association_rules\n",
    "\n",
    "rules = association_rules(frequent_itemsets, metric='confidence', min_threshold=0.1)\n",
    "print(rules[['antecedents', 'consequents', 'support', 'confidence']].sort_values('confidence', ascending=False).head(10))\n"
   ]
  },
  {
   "cell_type": "markdown",
   "id": "86c95a63",
   "metadata": {},
   "source": [
    "## Make Recommendations Based on Association Rules\n",
    "### *For example*: Suppose the user watched 'Sex Education'. Here’s how to recommend additional shows:"
   ]
  },
  {
   "cell_type": "code",
   "execution_count": 62,
   "id": "e2227f7a",
   "metadata": {},
   "outputs": [
    {
     "name": "stdout",
     "output_type": "stream",
     "text": [
      "Recommended shows: {'Ozark', 'Two and a half men', 'Atypical'}\n"
     ]
    }
   ],
   "source": [
    "watched = {'Sex Education'}\n",
    "candidate_rules = rules[rules['antecedents'].apply(lambda x: watched.issuperset(x))]\n",
    "recommendations = set()\n",
    "for s in candidate_rules['consequents']:\n",
    "    recommendations.update(s)\n",
    "recommendations -= watched\n",
    "print(\"Recommended shows:\", recommendations)\n"
   ]
  },
  {
   "cell_type": "markdown",
   "id": "98daced2",
   "metadata": {},
   "source": [
    "## Find Show Clusters (Frequent itemsets with size ≥ 2)"
   ]
  },
  {
   "cell_type": "code",
   "execution_count": 63,
   "id": "e667e342",
   "metadata": {},
   "outputs": [
    {
     "name": "stdout",
     "output_type": "stream",
     "text": [
      "     support                             itemsets\n",
      "30  0.075129               (Sex Education, Ozark)\n",
      "29  0.056553  (Sex Education, Two and a half men)\n",
      "31  0.056140            (Sex Education, Atypical)\n"
     ]
    }
   ],
   "source": [
    "# Show clusters: itemsets with 2 or more shows, sorted by support\n",
    "clusters = frequent_itemsets[frequent_itemsets['itemsets'].apply(lambda x: len(x) >= 2)]\n",
    "print(clusters.sort_values('support', ascending=False).head(10))"
   ]
  },
  {
   "cell_type": "markdown",
   "id": "d475f0fd",
   "metadata": {},
   "source": [
    "## Analyze User Preferences/Trends"
   ]
  },
  {
   "cell_type": "code",
   "execution_count": 64,
   "id": "813b0ad8",
   "metadata": {},
   "outputs": [
    {
     "name": "stdout",
     "output_type": "stream",
     "text": [
      "Sex Education         2477\n",
      "Ozark                 1877\n",
      "Two and a half men    1779\n",
      "Outer Banks           1696\n",
      "Atypical              1356\n",
      "Stranger Things       1070\n",
      "Mr. Robot             1060\n",
      "The Blacklist         1016\n",
      "Lucifer                949\n",
      "Daredevil              910\n",
      "dtype: int64\n",
      "     support                             itemsets\n",
      "29  0.056553  (Sex Education, Two and a half men)\n",
      "30  0.075129               (Sex Education, Ozark)\n",
      "31  0.056140            (Sex Education, Atypical)\n"
     ]
    }
   ],
   "source": [
    "# Find most popular shows and combinations\n",
    "popular_shows = df.sum().sort_values(ascending=False)\n",
    "print(popular_shows.head(10))\n",
    "\n",
    "# Show top frequent pair/group clusters again\n",
    "print(clusters.head(10))\n"
   ]
  },
  {
   "cell_type": "markdown",
   "id": "a39d8fc5",
   "metadata": {},
   "source": [
    "### Top single shows"
   ]
  },
  {
   "cell_type": "code",
   "execution_count": 66,
   "id": "78da38b6",
   "metadata": {},
   "outputs": [
    {
     "name": "stdout",
     "output_type": "stream",
     "text": [
      "Most Popular Shows:\n",
      "Sex Education         2477\n",
      "Ozark                 1877\n",
      "Two and a half men    1779\n",
      "Outer Banks           1696\n",
      "Atypical              1356\n",
      "Stranger Things       1070\n",
      "Mr. Robot             1060\n",
      "The Blacklist         1016\n",
      "Lucifer                949\n",
      "Daredevil              910\n",
      "dtype: int64\n"
     ]
    }
   ],
   "source": [
    "popular_shows = df.sum().sort_values(ascending=False)\n",
    "print(\"Most Popular Shows:\")\n",
    "print(popular_shows.head(10))"
   ]
  },
  {
   "cell_type": "markdown",
   "id": "e242de16",
   "metadata": {},
   "source": [
    "### Top Show Combinations (Clusters)"
   ]
  },
  {
   "cell_type": "code",
   "execution_count": 67,
   "id": "3ac0719d",
   "metadata": {},
   "outputs": [
    {
     "name": "stdout",
     "output_type": "stream",
     "text": [
      "Most Common Combinations:\n",
      "     support                             itemsets\n",
      "30  0.075129               (Sex Education, Ozark)\n",
      "29  0.056553  (Sex Education, Two and a half men)\n",
      "31  0.056140            (Sex Education, Atypical)\n"
     ]
    }
   ],
   "source": [
    "# Frequent itemsets with ≥2 shows, sorted by support\n",
    "clusters = frequent_itemsets[frequent_itemsets['itemsets'].apply(lambda x: len(x) >= 2)]\n",
    "print(\"Most Common Combinations:\")\n",
    "print(clusters.sort_values('support', ascending=False).head(10))\n"
   ]
  }
 ],
 "metadata": {
  "kernelspec": {
   "display_name": ".venv",
   "language": "python",
   "name": "python3"
  },
  "language_info": {
   "codemirror_mode": {
    "name": "ipython",
    "version": 3
   },
   "file_extension": ".py",
   "mimetype": "text/x-python",
   "name": "python",
   "nbconvert_exporter": "python",
   "pygments_lexer": "ipython3",
   "version": "3.13.2"
  }
 },
 "nbformat": 4,
 "nbformat_minor": 5
}
